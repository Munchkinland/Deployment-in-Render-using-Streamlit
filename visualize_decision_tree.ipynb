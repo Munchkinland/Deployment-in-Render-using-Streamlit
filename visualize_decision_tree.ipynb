{
 "cells": [
  {
   "cell_type": "code",
   "execution_count": null,
   "id": "da193801",
   "metadata": {},
   "outputs": [],
   "source": [
    "\n",
    "from sklearn.datasets import load_iris\n",
    "from sklearn.tree import DecisionTreeClassifier, export_graphviz\n",
    "import graphviz\n",
    "\n",
    "# Load the Iris dataset (or use your own dataset)\n",
    "iris = load_iris()\n",
    "X = iris.data\n",
    "y = iris.target\n",
    "\n",
    "# Train the decision tree classifier\n",
    "Iris_clf = DecisionTreeClassifier()\n",
    "Iris_clf.fit(X, y)\n",
    "\n",
    "# Now generate the DOT data for the trained decision tree\n",
    "dot_data = export_graphviz(Iris_clf, out_file=None, \n",
    "                           feature_names=iris.feature_names, \n",
    "                           class_names=iris.target_names,\n",
    "                           filled=True)\n",
    "\n",
    "# Creating a graph from the DOT data\n",
    "graph = graphviz.Source(dot_data)\n",
    "\n",
    "# Display the graph\n",
    "graph\n"
   ]
  }
 ],
 "metadata": {},
 "nbformat": 4,
 "nbformat_minor": 5
}
