{
    "cells": [
        {
            "cell_type": "markdown",
            "metadata": {},
            "source": [
                "# Explore here"
            ]
        },
        {
            "cell_type": "code",
            "execution_count": 4,
            "metadata": {},
            "outputs": [
                {
                    "name": "stderr",
                    "output_type": "stream",
                    "text": [
                        "2023-12-29 13:08:32.759 \n",
                        "  \u001b[33m\u001b[1mWarning:\u001b[0m to view this Streamlit app on a browser, run it with the following\n",
                        "  command:\n",
                        "\n",
                        "    streamlit run c:\\Users\\Rubén\\AppData\\Local\\Programs\\Python\\Python311\\Lib\\site-packages\\ipykernel_launcher.py [ARGUMENTS]\n",
                        "2023-12-29 13:08:32.759 Session state does not function when running a script without `streamlit run`\n"
                    ]
                }
            ],
            "source": [
                "from pickle import load\n",
                "import streamlit as st\n",
                "\n",
                "# Ruta al archivo del modelo entrenado\n",
                "model_path = r\"C:\\Users\\Rubén\\Desktop\\Deployment-in-Render-using-Streamlit\\models\\decision_tree_classifier_default_42.sav\"\n",
                "\n",
                "# Cargar el modelo desde el archivo\n",
                "with open(model_path, \"rb\") as model_file:\n",
                "    model = load(model_file)\n",
                "\n",
                "class_dict = {\n",
                "    \"0\": \"Iris setosa\",\n",
                "    \"1\": \"Iris versicolor\",\n",
                "    \"2\": \"Iris virginica\"\n",
                "}\n",
                "\n",
                "st.title(\"Iris - Model prediction\")\n",
                "\n",
                "val1 = st.slider(\"Petal width\", min_value=0.0, max_value=4.0, step=0.1)\n",
                "val2 = st.slider(\"Petal length\", min_value=0.0, max_value=4.0, step=0.1)\n",
                "val3 = st.slider(\"Sepal width\", min_value=0.0, max_value=4.0, step=0.1)\n",
                "val4 = st.slider(\"Sepal length\", min_value=0.0, max_value=4.0, step=0.1)\n",
                "\n",
                "if st.button(\"Predict\"):\n",
                "    prediction = str(model.predict([[val1, val2, val3, val4]])[0])\n",
                "    pred_class = class_dict[prediction]\n",
                "    st.write(\"Prediction:\", pred_class)\n"
            ]
        }
    ],
    "metadata": {
        "kernelspec": {
            "display_name": "Python 3.8.13 64-bit ('3.8.13')",
            "language": "python",
            "name": "python3"
        },
        "language_info": {
            "codemirror_mode": {
                "name": "ipython",
                "version": 3
            },
            "file_extension": ".py",
            "mimetype": "text/x-python",
            "name": "python",
            "nbconvert_exporter": "python",
            "pygments_lexer": "ipython3",
            "version": "3.11.3"
        },
        "orig_nbformat": 4,
        "vscode": {
            "interpreter": {
                "hash": "110cc1dee26208153f2972f08a2ad52b6a56238dc66d48e87fb757ef2996db56"
            }
        }
    },
    "nbformat": 4,
    "nbformat_minor": 2
}
